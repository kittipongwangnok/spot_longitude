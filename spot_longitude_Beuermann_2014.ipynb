{
 "cells": [
  {
   "cell_type": "code",
   "execution_count": 1,
   "metadata": {},
   "outputs": [],
   "source": [
    "#Import module\n",
    "import sys\n",
    "import os\n",
    "import numpy as np\n",
    "import matplotlib.pyplot as plt\n",
    "from scipy.optimize import curve_fit\n",
    "import pandas as pd\n",
    "#Latex font\n",
    "import matplotlib as mpl\n",
    "from matplotlib import rc\n",
    "plt.rc('text', usetex=True)\n",
    "plt.rc('font', family='serif',size=16)"
   ]
  },
  {
   "cell_type": "code",
   "execution_count": 2,
   "metadata": {},
   "outputs": [
    {
     "name": "stdout",
     "output_type": "stream",
     "text": [
      "Binned_Data_binning_dpleo_20161225_run025kg5.dat\r\n",
      "Binned_Data_binning_dpleo_20170217_run047kg5.dat\r\n",
      "Binned_Data_binning_dpleo_20170316_run036kg5.dat\r\n",
      "Binned_Data_binning_dpleo_20180121_run076kg5.dat\r\n",
      "Binned_Data_binning_dpleo_20200122_run028g.dat\r\n",
      "MeanJD_Kittipong_2021.dat\r\n",
      "MeanJD_Table12_Beuermann_2014.dat\r\n",
      "MeanJD_Table1_Beuermann_2014.dat\r\n",
      "MeanJD_Table2_Beuermann_2014.dat\r\n",
      "MeanJD_combined.dat\r\n",
      "\u001b[1m\u001b[34m__pycache__\u001b[m\u001b[m/\r\n",
      "\u001b[1m\u001b[31mbarycorr.py\u001b[m\u001b[m*\r\n",
      "bjd_example.py\r\n",
      "dpleo_20140112_run022kg5.dat\r\n",
      "\u001b[1m\u001b[31mdpleo_20140112_run022kg5.in\u001b[m\u001b[m*\r\n",
      "\u001b[1m\u001b[31mjd2bjd_spot_longitude_Beuermann_2014.py\u001b[m\u001b[m*\r\n",
      "\u001b[1m\u001b[31mjd2bjd_spot_longitude_table_1_Beuermann_2014.in\u001b[m\u001b[m*\r\n",
      "jd2bjd_spot_longitude_table_1_Beuermann_2014.out\r\n",
      "\u001b[1m\u001b[31mjd2bjd_spot_longitude_table_1_Beuermann_2014.py\u001b[m\u001b[m*\r\n",
      "jd2bjd_spot_longitude_table_2_Biermann_1985.in\r\n",
      "\u001b[1m\u001b[31mjd2bjd_spot_longitude_table_2_Biermann_1985.py\u001b[m\u001b[m*\r\n",
      "\u001b[1m\u001b[31mmjd2bjd_dpleo_20140112_run022kg5.py\u001b[m\u001b[m*\r\n",
      "quad_fit.dat\r\n",
      "\u001b[1m\u001b[31mspot_longitude_Beuermann_2014.ipynb\u001b[m\u001b[m*\r\n",
      "spot_longitude_Beuermann_Kittipong.png\r\n",
      "spot_longitude_Data_binning_average_2017.ipynb\r\n",
      "spot_longitude_Data_binning_dpleo_20161225_run025kg5.ipynb\r\n",
      "spot_longitude_Data_binning_dpleo_20170217_run047kg5.ipynb\r\n",
      "spot_longitude_Data_binning_dpleo_20170316_run036kg5.ipynb\r\n",
      "spot_longitude_Data_binning_dpleo_20180121_run076kg5.ipynb\r\n",
      "spot_longitude_Data_binning_dpleo_20200122_run028g.ipynb\r\n",
      "\u001b[1m\u001b[31mtable_1.dat\u001b[m\u001b[m*\r\n",
      "\u001b[1m\u001b[31mtable_12.dat\u001b[m\u001b[m*\r\n",
      "table_12.out\r\n",
      "\u001b[1m\u001b[31mtable_12_demo.dat\u001b[m\u001b[m*\r\n",
      "\u001b[1m\u001b[31mtable_2.dat\u001b[m\u001b[m*\r\n",
      "table_kw_2021.dat\r\n",
      "test.dat\r\n"
     ]
    }
   ],
   "source": [
    "ls"
   ]
  },
  {
   "cell_type": "code",
   "execution_count": 3,
   "metadata": {},
   "outputs": [],
   "source": [
    "#Read data ---#1\n",
    "Input_1 = \"MeanJD_Table1_Beuermann_2014.dat\"\n",
    "Data_1   = np.genfromtxt(Input_1)\n",
    "\n",
    "#Read data ---#2\n",
    "Input_2 = \"MeanJD_Table2_Beuermann_2014.dat\"\n",
    "Data_2   = np.genfromtxt(Input_2)\n",
    "\n",
    "#Read data ---#3\n",
    "Input_3 = \"MeanJD_Kittipong_2021.dat\"\n",
    "Data_3   = np.genfromtxt(Input_3)\n",
    "\n",
    "#Input calculation ---#1\n",
    "N = 2400000\n",
    "\n",
    "MeanJD_1 = Data_1[:,0] - N\n",
    "Psi_1 = Data_1[:,1]\n",
    "Psi_err_1 = Data_1[:,2]\n",
    "\n",
    "#Input calculation ---#1\n",
    "MeanJD_2 = Data_2[:,0] - N\n",
    "Psi_2 = Data_2[:,1]\n",
    "Psi_err_2 = Data_2[:,2]\n",
    "\n",
    "#Input calculation ---#3\n",
    "MeanJD_3 = Data_3[:,0] - N\n",
    "Psi_3 = Data_3[:,1]\n",
    "Psi_err_3 = Data_3[:,2]"
   ]
  },
  {
   "cell_type": "code",
   "execution_count": 4,
   "metadata": {},
   "outputs": [
    {
     "data": {
      "image/png": "[encoded data removed]",
      "text/plain": [
       "<Figure size 720x504 with 1 Axes>"
      ]
     },
     "metadata": {
      "needs_background": "light"
     },
     "output_type": "display_data"
    }
   ],
   "source": [
    "fig, (ax0) = plt.subplots(1, 1, sharex=True, sharey=False, figsize=(10, 7), tight_layout=True)\n",
    "#plt.xlim(-0.04,0.04)\n",
    "#plt.xlabel('Orbital phase')\n",
    "\n",
    "ax0.tick_params(direction='in', which='both', bottom='on',top='on', right = 'on')\n",
    "#ax1.tick_params(direction='in', which='both', bottom='on',top='on', right = 'on')\n",
    "\n",
    "ax0.errorbar(MeanJD_1, Psi_1, yerr=Psi_err_1, fmt='o', color='cyan',\n",
    "             ecolor='lightgray', elinewidth=1, capsize=0)\n",
    "ax0.errorbar(MeanJD_2, Psi_2, yerr=Psi_err_2, fmt='o', color='lightgreen',\n",
    "             ecolor='lightgray', elinewidth=1, capsize=0)\n",
    "ax0.errorbar(MeanJD_3, Psi_3, yerr=Psi_err_3, fmt='o', color='blue',\n",
    "             ecolor='lightgray', elinewidth=1, capsize=0)\n",
    "\n",
    "\n",
    "#ax0.legend(loc=\"best\")\n",
    "ax0.set_xlabel('JD - '+str(N))\n",
    "ax0.set_ylabel('Spot longitude $\\psi$ (deg)')\n",
    "\n",
    "ax0.set_ylim(-30, 40)\n",
    "\n",
    "fig.align_ylabels()\n",
    "#output_filename = os.path.splitext(__file__)[0] + '.png'\n",
    "#plt.savefig(output_filename, dpi=1000)\n",
    "plt.savefig(\"spot_longitude_Beuermann_Kittipong.png\")\n",
    "plt.show()"
   ]
  },
  {
   "cell_type": "code",
   "execution_count": 5,
   "metadata": {},
   "outputs": [],
   "source": [
    "#Read data ---#2\n",
    "Input_2 = \"MeanJD_Table2_Beuermann_2014.dat\"\n",
    "Data_2   = np.genfromtxt(Input_2)\n",
    "\n",
    "#Integer number\n",
    "N = 2400000\n",
    "\n",
    "#Input calculation ---#2\n",
    "MeanJD_2 = Data_2[:,0] - N\n",
    "Psi_2 = Data_2[:,1]\n",
    "Psi_err_2 = Data_2[:,2]\n"
   ]
  },
  {
   "cell_type": "code",
   "execution_count": 6,
   "metadata": {},
   "outputs": [],
   "source": [
    "x = MeanJD_2\n",
    "y = Psi_2\n",
    "dy = Psi_err_2"
   ]
  },
  {
   "cell_type": "code",
   "execution_count": 7,
   "metadata": {},
   "outputs": [],
   "source": [
    "# define the true objective function\n",
    "def linear(x, a, b):\n",
    "    return a * x + b"
   ]
  },
  {
   "cell_type": "code",
   "execution_count": 15,
   "metadata": {},
   "outputs": [
    {
     "name": "stdout",
     "output_type": "stream",
     "text": [
      "y = 0.00457 * x + -219.99470\n",
      "[44214.62 44215.62 44216.62 ... 56330.62 56331.62 56332.62]\n"
     ]
    }
   ],
   "source": [
    "# curve fit\n",
    "popt, _ = curve_fit(linear, x, y)\n",
    "# summarize the parameter values\n",
    "a, b = popt\n",
    "print('y = %.5f * x + %.5f' % (a, b))\n",
    "# plot input vs output\n",
    "# define a sequence of inputs between the smallest and largest known inputs\n",
    "x_line = np.arange(min(x), max(x), 1)\n",
    "# calculate the output for the range\n",
    "y_line = linear(x_line, a, b)\n",
    "\n",
    "print(x_line)"
   ]
  },
  {
   "cell_type": "code",
   "execution_count": 9,
   "metadata": {},
   "outputs": [
    {
     "name": "stdout",
     "output_type": "stream",
     "text": [
      "[44214.62 44215.62 44216.62 ... 52282.62 52283.62 52284.62]\n"
     ]
    },
    {
     "data": {
      "image/png": "[encoded data removed]",
      "text/plain": [
       "<Figure size 720x504 with 2 Axes>"
      ]
     },
     "metadata": {
      "needs_background": "light"
     },
     "output_type": "display_data"
    }
   ],
   "source": [
    "fig, (ax0, ax1) = plt.subplots(2, 1, gridspec_kw={'height_ratios': [4, 1]}, sharex=True, sharey=False, figsize=(10, 7), tight_layout=True)\n",
    "#plt.xlim(-0.04,0.04)\n",
    "#plt.xlabel('Orbital phase')\n",
    "\n",
    "ax0.tick_params(direction='in', which='both', bottom='on',top='on', right = 'on')\n",
    "ax1.tick_params(direction='in', which='both', bottom='on',top='on', right = 'on')\n",
    "\n",
    "ax0.errorbar(x, y, yerr=dy, fmt='o', color='lightgreen',\n",
    "             ecolor='lightgray', elinewidth=1, capsize=0)\n",
    "ax0.errorbar(MeanJD_1, Psi_1, yerr=Psi_err_1, fmt='o', color='cyan',\n",
    "             ecolor='lightgray', elinewidth=1, capsize=0)\n",
    "ax0.errorbar(MeanJD_3, Psi_3, yerr=Psi_err_3, fmt='o', color='blue',\n",
    "             ecolor='lightgray', elinewidth=1, capsize=0)\n",
    "# define a sequence of inputs between the smallest and largest known inputs\n",
    "x_line = np.arange(min(x), max(x), 1)\n",
    "# calculate the output for the range\n",
    "y_line = linear(x_line, a, b)\n",
    "# create a line plot for the mapping function\n",
    "ax0.plot(x_line, y_line, '--', color='red')\n",
    "print(x_line)\n",
    "plt.show()"
   ]
  },
  {
   "cell_type": "code",
   "execution_count": 10,
   "metadata": {},
   "outputs": [],
   "source": [
    "#Read data ---#2\n",
    "Input_12 = \"MeanJD_Table12_Beuermann_2014.dat\"\n",
    "Data_12   = np.genfromtxt(Input_12)\n",
    "\n",
    "#Integer number\n",
    "N = 2400000\n",
    "\n",
    "#Input calculation ---#2\n",
    "MeanJD_12 = Data_12[:,0] - N\n",
    "Psi_12 = Data_12[:,1]\n",
    "Psi_err_12 = Data_12[:,2]"
   ]
  },
  {
   "cell_type": "code",
   "execution_count": 11,
   "metadata": {},
   "outputs": [],
   "source": [
    "x = MeanJD_12\n",
    "y = Psi_12\n",
    "dy = Psi_err_12"
   ]
  },
  {
   "cell_type": "code",
   "execution_count": 12,
   "metadata": {},
   "outputs": [],
   "source": [
    "def objective(x, a, b, c, f):\n",
    "    return (a * x) + (b * x**2) + (c * x**3) + f"
   ]
  },
  {
   "cell_type": "code",
   "execution_count": 13,
   "metadata": {},
   "outputs": [
    {
     "name": "stdout",
     "output_type": "stream",
     "text": [
      "-0.38499388503370385 8.016872346449997e-06 -5.472562357181224e-11 6060.5662859669565\n"
     ]
    }
   ],
   "source": [
    "# curve fit\n",
    "popt, _ = curve_fit(objective, x, y)\n",
    "# summarize the parameter values\n",
    "a, b, c, f = popt\n",
    "\n",
    "print(a, b, c, f)"
   ]
  },
  {
   "cell_type": "code",
   "execution_count": 14,
   "metadata": {},
   "outputs": [
    {
     "name": "stdout",
     "output_type": "stream",
     "text": [
      "[44214.62 44215.62 44216.62 ... 56330.62 56331.62 56332.62]\n"
     ]
    },
    {
     "data": {
      "image/png": "[encoded data removed]",
      "text/plain": [
       "<Figure size 720x504 with 2 Axes>"
      ]
     },
     "metadata": {
      "needs_background": "light"
     },
     "output_type": "display_data"
    }
   ],
   "source": [
    "fig, (ax0, ax1) = plt.subplots(2, 1, gridspec_kw={'height_ratios': [4, 1]}, sharex=True, sharey=False, figsize=(10, 7), tight_layout=True)\n",
    "#plt.xlim(-0.04,0.04)\n",
    "#plt.xlabel('Orbital phase')\n",
    "\n",
    "ax0.tick_params(direction='in', which='both', bottom='on',top='on', right = 'on')\n",
    "ax1.tick_params(direction='in', which='both', bottom='on',top='on', right = 'on')\n",
    "\n",
    "ax0.errorbar(x, y, yerr=dy, fmt='o', color='lightgreen',\n",
    "             ecolor='lightgray', elinewidth=1, capsize=0)\n",
    "ax0.errorbar(MeanJD_1, Psi_1, yerr=Psi_err_1, fmt='o', color='cyan',\n",
    "             ecolor='lightgray', elinewidth=1, capsize=0)\n",
    "ax0.errorbar(MeanJD_3, Psi_3, yerr=Psi_err_3, fmt='o', color='blue',\n",
    "             ecolor='lightgray', elinewidth=1, capsize=0)\n",
    "# define a sequence of inputs between the smallest and largest known inputs\n",
    "x_line = np.arange(min(x), max(x), 1)\n",
    "# calculate the output for the range\n",
    "y_line = objective(x_line, a, b, c, f)\n",
    "# create a line plot for the mapping function\n",
    "ax0.plot(x_line, y_line, '--', color='red')\n",
    "print(x_line)\n",
    "plt.show()"
   ]
  },
  {
   "cell_type": "code",
   "execution_count": null,
   "metadata": {},
   "outputs": [],
   "source": []
  },
  {
   "cell_type": "code",
   "execution_count": null,
   "metadata": {},
   "outputs": [],
   "source": []
  }
 ],
 "metadata": {
  "kernelspec": {
   "display_name": "Python 3 (ipykernel)",
   "language": "python",
   "name": "python3"
  },
  "language_info": {
   "codemirror_mode": {
    "name": "ipython",
    "version": 3
   },
   "file_extension": ".py",
   "mimetype": "text/x-python",
   "name": "python",
   "nbconvert_exporter": "python",
   "pygments_lexer": "ipython3",
   "version": "3.9.7"
  }
 },
 "nbformat": 4,
 "nbformat_minor": 4
}
